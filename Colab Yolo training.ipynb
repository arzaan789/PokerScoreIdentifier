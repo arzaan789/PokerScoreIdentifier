{
 "nbformat": 4,
 "nbformat_minor": 0,
 "metadata": {
  "colab": {
   "provenance": [],
   "gpuType": "T4"
  },
  "kernelspec": {
   "name": "python3",
   "display_name": "Python 3"
  },
  "language_info": {
   "name": "python"
  },
  "accelerator": "GPU"
 },
 "cells": [
  {
   "cell_type": "code",
   "source": [
    "pip install ultralytics"
   ],
   "metadata": {
    "colab": {
     "base_uri": "https://localhost:8080/"
    },
    "id": "xcUMs48b_zg2",
    "outputId": "98b5d1c0-b1a9-40c6-d950-ca1d6dcf78ee"
   },
   "execution_count": null,
   "outputs": []
  },
  {
   "cell_type": "code",
   "source": [
    "pip install roboflow"
   ],
   "metadata": {
    "colab": {
     "base_uri": "https://localhost:8080/",
     "height": 1000
    },
    "id": "rwDTIWqX2Pus",
    "outputId": "163df266-2008-420a-e2e2-6e318355259e"
   },
   "execution_count": null,
   "outputs": []
  },
  {
   "cell_type": "code",
   "source": [
    "from roboflow import Roboflow\n",
    "rf = Roboflow(api_key=\"Uqb2qXrTuO5PdNUp8e0W\")\n",
    "project = rf.workspace(\"arzaan-ul-mairaj-pwgut\").project(\"poker-info-cards-v2\")\n",
    "dataset = project.version(1).download(\"yolov8\")\n"
   ],
   "metadata": {
    "id": "yVDr0Nh1AQvG",
    "colab": {
     "base_uri": "https://localhost:8080/"
    },
    "outputId": "7ae12836-3012-4240-d6f8-575c6534b6e8"
   },
   "execution_count": 1,
   "outputs": [
    {
     "output_type": "stream",
     "name": "stdout",
     "text": [
      "loading Roboflow workspace...\n",
      "loading Roboflow project...\n",
      "Dependency ultralytics==8.0.196 is required but found version=8.0.219, to fix: `pip install ultralytics==8.0.196`\n"
     ]
    },
    {
     "output_type": "stream",
     "name": "stderr",
     "text": [
      "Downloading Dataset Version Zip in poker-info-cards-v2-1 to yolov8:: 100%|██████████| 56229/56229 [00:00<00:00, 70279.09it/s]"
     ]
    },
    {
     "output_type": "stream",
     "name": "stdout",
     "text": []
    },
    {
     "output_type": "stream",
     "name": "stderr",
     "text": [
      "\n",
      "Extracting Dataset Version Zip to poker-info-cards-v2-1 in yolov8:: 100%|██████████| 645/645 [00:00<00:00, 3728.22it/s]\n"
     ]
    }
   ]
  },
  {
   "cell_type": "code",
   "source": [
    "from ultralytics import YOLO\n",
    "model = YOLO(\"yolov8m.pt\")\n",
    "results = model.train(\n",
    "   data='data.yaml',\n",
    "   imgsz=1280,\n",
    "   epochs=250,\n",
    "   batch=8,\n",
    "   name='yolov8_custom',\n",
    "   project = \"/content/drive/MyDrive/bleedai\",\n",
    "   device = 0,\n",
    "   single_cls=True)"
   ],
   "metadata": {
    "colab": {
     "base_uri": "https://localhost:8080/",
     "height": 1000
    },
    "id": "fxjZGG_KRLsY",
    "outputId": "3d13510e-7446-4544-c7c1-e3ea7e4e2e50"
   },
   "execution_count": null,
   "outputs": []
  },
  {
   "cell_type": "code",
   "source": [
    "model = YOLO(\"/content/drive/MyDrive/bleedai/yolov8_custom3/weights/best.pt\")\n",
    "model.predict(\"/content/frames_Kr4V0_8Rqo8_18.jpg\", save=True)"
   ],
   "metadata": {
    "id": "HmjQMJ0TTfN0",
    "colab": {
     "base_uri": "https://localhost:8080/"
    },
    "outputId": "e83486bb-300b-45e7-cd4a-2a465fc50de5"
   },
   "execution_count": null,
   "outputs": []
  }
 ]
}
